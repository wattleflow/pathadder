{
 "cells": [
  {
   "cell_type": "markdown",
   "metadata": {},
   "source": [
    "# pathadder - usage"
   ]
  },
  {
   "cell_type": "code",
   "execution_count": null,
   "metadata": {},
   "outputs": [],
   "source": [
    "import os\n",
    "from pathadder import show_paths, override_paths\n",
    "\n",
    "# Set SOURCE_PATH to a specific path\n",
    "os.environ['SOURCE_PATH'] = 'src/wattleflow'\n",
    "\n",
    "# After that, call the function\n",
    "override_paths(show=False)\n",
    "show_paths()"
   ]
  }
 ],
 "metadata": {
  "kernelspec": {
   "display_name": "wattleflow",
   "language": "python",
   "name": "python3"
  },
  "language_info": {
   "codemirror_mode": {
    "name": "ipython",
    "version": 3
   },
   "file_extension": ".py",
   "mimetype": "text/x-python",
   "name": "python",
   "nbconvert_exporter": "python",
   "pygments_lexer": "ipython3",
   "version": "3.13.0"
  }
 },
 "nbformat": 4,
 "nbformat_minor": 2
}
